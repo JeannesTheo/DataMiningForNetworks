{
 "cells": [
  {
   "cell_type": "code",
   "execution_count": 244,
   "id": "initial_id",
   "metadata": {
    "collapsed": true,
    "ExecuteTime": {
     "end_time": "2023-12-20T23:02:52.218699879Z",
     "start_time": "2023-12-20T23:02:52.206753655Z"
    }
   },
   "outputs": [],
   "source": [
    "def d_f(x):\n",
    "    return 8 * (x ** 3) - 12 * (x ** 2) + 6 * x + 4\n",
    "\n",
    "\n",
    "def descente_gradient(d_f, x0, alpha=.1, n=2):\n",
    "    x = x0\n",
    "    liste_x = [x0]\n",
    "    for i in range(n):\n",
    "        x = x - alpha * d_f(x)\n",
    "        liste_x.append(round(x, 3))\n",
    "    print(\"Results starting from x0 = {} are {}\".format(x0, liste_x))\n",
    "    return liste_x"
   ]
  },
  {
   "cell_type": "code",
   "execution_count": 245,
   "outputs": [
    {
     "name": "stdout",
     "output_type": "stream",
     "text": [
      "Results starting from x0 = 0 are [0, -0.4, -0.317]\n"
     ]
    },
    {
     "data": {
      "text/plain": "[0, -0.4, -0.317]"
     },
     "execution_count": 245,
     "metadata": {},
     "output_type": "execute_result"
    }
   ],
   "source": [
    "descente_gradient(d_f, 0)"
   ],
   "metadata": {
    "collapsed": false,
    "ExecuteTime": {
     "end_time": "2023-12-20T23:02:52.235190360Z",
     "start_time": "2023-12-20T23:02:52.222405917Z"
    }
   },
   "id": "7251f694e565ffb3"
  },
  {
   "cell_type": "code",
   "execution_count": 246,
   "outputs": [
    {
     "name": "stdout",
     "output_type": "stream",
     "text": [
      "Results starting from x0 = 10 are [10, -676.4, 248120326.787]\n"
     ]
    },
    {
     "data": {
      "text/plain": "[10, -676.4, 248120326.787]"
     },
     "execution_count": 246,
     "metadata": {},
     "output_type": "execute_result"
    }
   ],
   "source": [
    "descente_gradient(d_f, 10)"
   ],
   "metadata": {
    "collapsed": false,
    "ExecuteTime": {
     "end_time": "2023-12-20T23:02:52.297363814Z",
     "start_time": "2023-12-20T23:02:52.237690205Z"
    }
   },
   "id": "e7a2ab90888d40f2"
  },
  {
   "cell_type": "markdown",
   "source": [
    "The first gradient descend algorithm seems to converge to the minimum of the function, while the second one is clearly diverging. The learning rate is probably too high, and would need to be decreased to get optimal results.\n",
    "\n",
    "# Exercise 2"
   ],
   "metadata": {
    "collapsed": false
   },
   "id": "a8c35ae01af257d0"
  },
  {
   "cell_type": "code",
   "execution_count": 247,
   "outputs": [],
   "source": [
    "from matplotlib import pyplot as plt\n",
    "import numpy as np"
   ],
   "metadata": {
    "collapsed": false,
    "ExecuteTime": {
     "end_time": "2023-12-20T23:02:52.297671895Z",
     "start_time": "2023-12-20T23:02:52.283189530Z"
    }
   },
   "id": "c2db531a098d044f"
  },
  {
   "cell_type": "code",
   "execution_count": 248,
   "outputs": [],
   "source": [
    "def linear_regression_batch_gradient(X, y, learning_rate=0.01, max_iter=1000):\n",
    "    m,n = X.shape\n",
    "    theta = np.zeros(n)  # Initialize the coefficients as zeros\n",
    "    error = np.inf  # Initialize the training error as infinity\n",
    "    i = 0\n",
    "    while i < max_iter and error > 0.001:\n",
    "        predicted_y = np.dot(X, theta)  # Calculate the predicted values\n",
    "        # Calculate the gradients and update the coefficients\n",
    "        theta -= learning_rate * np.dot(X.T, (predicted_y - y)) / m\n",
    "        error = np.mean((y - predicted_y)**2)\n",
    "        i += 1\n",
    "    return theta, error\n",
    "\n",
    "def linear_regression_stochastic_gradient(X, y, learning_rate=0.01, max_iter=1000):\n",
    "    m,n = X.shape\n",
    "    theta = np.zeros(n)  # Initialize the coefficients as zeros\n",
    "    error = np.inf  # Initialize the training error as infinity\n",
    "    i = 0\n",
    "    while i < max_iter and error > 0.001:\n",
    "        for j in range(m):\n",
    "            predicted_y = np.dot(X[j], theta)  # Calculate the predicted values\n",
    "            # Calculate the gradients and update the coefficients\n",
    "            theta -= learning_rate * np.dot(X[j].T, (predicted_y - y[j])) / m\n",
    "            error = np.mean((y - predicted_y)**2)\n",
    "        i += 1\n",
    "    return theta, error\n",
    "\n",
    "def linear_regression_mini_batch_gradient(X, y, learning_rate=0.01, max_iter=1000, batch_size=10):\n",
    "    m,n = X.shape\n",
    "    theta = np.zeros(n)  # Initialize the coefficients as zeros\n",
    "    error = np.inf  # Initialize the training error as infinity\n",
    "    i = 0\n",
    "    while i < max_iter and error > 0.001:\n",
    "        for j in range(0, m, batch_size):\n",
    "            predicted_y = np.dot(X[j:j+batch_size], theta)  # Calculate the predicted values\n",
    "            # Calculate the gradients and update the coefficients\n",
    "            theta -= learning_rate * np.dot(X[j:j+batch_size].T, (predicted_y - y[j:j+batch_size])) / m\n",
    "            error = np.mean((y - predicted_y)**2)\n",
    "        i += 1\n",
    "    return theta, error"
   ],
   "metadata": {
    "collapsed": false,
    "ExecuteTime": {
     "end_time": "2023-12-20T23:02:52.297819349Z",
     "start_time": "2023-12-20T23:02:52.283316561Z"
    }
   },
   "id": "de43d711307a42e1"
  },
  {
   "cell_type": "code",
   "execution_count": null,
   "outputs": [],
   "source": [
    "# Do simultaneous updates of the coefficients"
   ],
   "metadata": {
    "collapsed": false
   },
   "id": "8353f46fad8a0194"
  },
  {
   "cell_type": "code",
   "execution_count": 249,
   "outputs": [
    {
     "name": "stdout",
     "output_type": "stream",
     "text": [
      "Batch gradient descent: theta = [0.92273195 1.06460157], error = 0.0009983612786599169\n",
      "Stochastic gradient descent: theta = [0.96396455 1.03049028], error = 55.86088533870091\n",
      "Mini-batch gradient descent: theta = [0.92273195 1.06460157], error = 0.0009983612786599169\n"
     ]
    }
   ],
   "source": [
    "X = np.array([[1, 2], [3, 4], [5, 6], [7, 8]])\n",
    "y = np.array([3, 7, 11, 15])\n",
    "theta_batch, err_batch = linear_regression_batch_gradient(X, y)\n",
    "theta_stochastic, err_stochastic = linear_regression_stochastic_gradient(X, y)\n",
    "theta_mini_batch, err_mini_batch = linear_regression_mini_batch_gradient(X, y)\n",
    "print(\"Batch gradient descent: theta = {}, error = {}\".format(theta_batch, err_batch))\n",
    "print(\"Stochastic gradient descent: theta = {}, error = {}\".format(theta_stochastic, err_stochastic))\n",
    "print(\"Mini-batch gradient descent: theta = {}, error = {}\".format(theta_mini_batch, err_mini_batch))"
   ],
   "metadata": {
    "collapsed": false,
    "ExecuteTime": {
     "end_time": "2023-12-20T23:02:52.340849551Z",
     "start_time": "2023-12-20T23:02:52.283369123Z"
    }
   },
   "id": "e21d813f3ab5897e"
  },
  {
   "cell_type": "code",
   "execution_count": 250,
   "outputs": [
    {
     "data": {
      "text/plain": "<matplotlib.legend.Legend at 0x7efb94fd4a10>"
     },
     "execution_count": 250,
     "metadata": {},
     "output_type": "execute_result"
    },
    {
     "data": {
      "text/plain": "<Figure size 640x480 with 1 Axes>",
      "image/png": "[encoded data removed]"
     },
     "metadata": {},
     "output_type": "display_data"
    }
   ],
   "source": [
    "plt.scatter(X[:, 0], X[:, 1],color='black')\n",
    "def f(x):\n",
    "    return theta_batch[0] * x + theta_batch[1]\n",
    "def g(x):\n",
    "    return theta_stochastic[0] * x + theta_stochastic[1]\n",
    "def h(x):\n",
    "    return theta_mini_batch[0] * x + theta_mini_batch[1]\n",
    "x = np.arange(0, 10, 0.1)\n",
    "plt.plot(x, f(x), label='Batch gradient', color='r')\n",
    "plt.plot(x, g(x), label='Stochastic gradient', color='b')\n",
    "plt.plot(x, h(x), label='Mini-batch gradient', color='g')\n",
    "plt.legend()"
   ],
   "metadata": {
    "collapsed": false,
    "ExecuteTime": {
     "end_time": "2023-12-20T23:02:52.477056923Z",
     "start_time": "2023-12-20T23:02:52.338645798Z"
    }
   },
   "id": "be4b7439db322b63"
  }
 ],
 "metadata": {
  "kernelspec": {
   "display_name": "Python 3",
   "language": "python",
   "name": "python3"
  },
  "language_info": {
   "codemirror_mode": {
    "name": "ipython",
    "version": 2
   },
   "file_extension": ".py",
   "mimetype": "text/x-python",
   "name": "python",
   "nbconvert_exporter": "python",
   "pygments_lexer": "ipython2",
   "version": "2.7.6"
  }
 },
 "nbformat": 4,
 "nbformat_minor": 5
}
